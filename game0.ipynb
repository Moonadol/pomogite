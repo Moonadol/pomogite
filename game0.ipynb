{
 "cells": [
  {
   "cell_type": "code",
   "execution_count": null,
   "metadata": {},
   "outputs": [],
   "source": [
    "\n",
    "from game2 import random_predict, score_game\n",
    "\n",
    "\n",
    "score_game(random_predict) #вызов функции"
   ]
  }
 ],
 "metadata": {
  "language_info": {
   "name": "python"
  }
 },
 "nbformat": 4,
 "nbformat_minor": 2
}
